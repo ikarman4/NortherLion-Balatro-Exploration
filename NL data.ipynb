{
 "cells": [
  {
   "cell_type": "markdown",
   "id": "9e33b305",
   "metadata": {},
   "source": [
    "# NorthernLion Balatro Exploration\n",
    "#### Let's take a look at the last 100 Balatro videos and their thumbnails posted by NorthernLion from March-May 2024. Are there any relations between the jokers shown in a thumbnail versus the amount of views the video gets? What about if the length of the video impacts the amount of views it gets? Or if those jokers are chromed up or dipped in Mama Liz's negative chili oil?\n",
    "\n",
    "I spent like 30 minutes manually collecting this data because I got bored on a Friday morning and was interested in what jokers show up more than others. The jupyter notebook followed pretty quickly. Videos with repeated thumbnails and videos without a Balatro focus were dropped from final analysis. E.g. mainly NL's head, no cards or score or money shown outright.\n",
    "\n",
    "All CSVs and data stuff can be found in the corresponding folders. Please update the file paths for each function call below if you plan on recreating or messing around with the data yourself. -These were all in the top level folder for this notebook."
   ]
  },
  {
   "cell_type": "markdown",
   "id": "f377659f",
   "metadata": {},
   "source": [
    "## Lets get the csv loaded and poke around with it."
   ]
  },
  {
   "cell_type": "code",
   "execution_count": 154,
   "id": "5b0ef938",
   "metadata": {},
   "outputs": [
    {
     "data": {
      "text/html": [
       "<div>\n",
       "<style scoped>\n",
       "    .dataframe tbody tr th:only-of-type {\n",
       "        vertical-align: middle;\n",
       "    }\n",
       "\n",
       "    .dataframe tbody tr th {\n",
       "        vertical-align: top;\n",
       "    }\n",
       "\n",
       "    .dataframe thead th {\n",
       "        text-align: right;\n",
       "    }\n",
       "</style>\n",
       "<table border=\"1\" class=\"dataframe\">\n",
       "  <thead>\n",
       "    <tr style=\"text-align: right;\">\n",
       "      <th></th>\n",
       "      <th>Title</th>\n",
       "      <th>Length</th>\n",
       "      <th>Balatro Card</th>\n",
       "      <th>Views</th>\n",
       "      <th>negative</th>\n",
       "      <th>polychrome</th>\n",
       "    </tr>\n",
       "  </thead>\n",
       "  <tbody>\n",
       "    <tr>\n",
       "      <th>0</th>\n",
       "      <td>I thought gold stake was supposed to be hard</td>\n",
       "      <td>0:59:05</td>\n",
       "      <td>mecury</td>\n",
       "      <td>65000</td>\n",
       "      <td>1</td>\n",
       "      <td>0</td>\n",
       "    </tr>\n",
       "    <tr>\n",
       "      <th>1</th>\n",
       "      <td>all the foil in the world</td>\n",
       "      <td>0:40:14</td>\n",
       "      <td>campfire\\spacejoker\\vagabond\\fortuneteller</td>\n",
       "      <td>30000</td>\n",
       "      <td>1</td>\n",
       "      <td>0</td>\n",
       "    </tr>\n",
       "    <tr>\n",
       "      <th>2</th>\n",
       "      <td>this patch was made for me</td>\n",
       "      <td>0:34:40</td>\n",
       "      <td>greenjoker\\stuntman\\blackboard\\madness</td>\n",
       "      <td>60000</td>\n",
       "      <td>0</td>\n",
       "      <td>0</td>\n",
       "    </tr>\n",
       "    <tr>\n",
       "      <th>3</th>\n",
       "      <td>it has to work sometime</td>\n",
       "      <td>1:30:54</td>\n",
       "      <td>104\\duo</td>\n",
       "      <td>67000</td>\n",
       "      <td>0</td>\n",
       "      <td>1</td>\n",
       "    </tr>\n",
       "    <tr>\n",
       "      <th>4</th>\n",
       "      <td>i will never financially recover from this</td>\n",
       "      <td>0:27:07</td>\n",
       "      <td>money</td>\n",
       "      <td>27000</td>\n",
       "      <td>0</td>\n",
       "      <td>0</td>\n",
       "    </tr>\n",
       "    <tr>\n",
       "      <th>...</th>\n",
       "      <td>...</td>\n",
       "      <td>...</td>\n",
       "      <td>...</td>\n",
       "      <td>...</td>\n",
       "      <td>...</td>\n",
       "      <td>...</td>\n",
       "    </tr>\n",
       "    <tr>\n",
       "      <th>81</th>\n",
       "      <td>bro got double mult multers</td>\n",
       "      <td>0:31:19</td>\n",
       "      <td>trio\\duo\\stuntman</td>\n",
       "      <td>105000</td>\n",
       "      <td>1</td>\n",
       "      <td>0</td>\n",
       "    </tr>\n",
       "    <tr>\n",
       "      <th>82</th>\n",
       "      <td>when your brain glycogen hits zero</td>\n",
       "      <td>0:27:41</td>\n",
       "      <td>turtlebean\\abstract\\scholar</td>\n",
       "      <td>75000</td>\n",
       "      <td>0</td>\n",
       "      <td>0</td>\n",
       "    </tr>\n",
       "    <tr>\n",
       "      <th>83</th>\n",
       "      <td>he called this deck easy</td>\n",
       "      <td>0:28:07</td>\n",
       "      <td>drunkard\\raisedfist\\swashbuckler</td>\n",
       "      <td>91000</td>\n",
       "      <td>0</td>\n",
       "      <td>0</td>\n",
       "    </tr>\n",
       "    <tr>\n",
       "      <th>84</th>\n",
       "      <td>stencil my nemesis</td>\n",
       "      <td>0:44:37</td>\n",
       "      <td>blueprint\\stencil</td>\n",
       "      <td>113000</td>\n",
       "      <td>0</td>\n",
       "      <td>0</td>\n",
       "    </tr>\n",
       "    <tr>\n",
       "      <th>85</th>\n",
       "      <td>the goat of being carried in balatro</td>\n",
       "      <td>0:59:43</td>\n",
       "      <td>cavendish\\baseball</td>\n",
       "      <td>151000</td>\n",
       "      <td>0</td>\n",
       "      <td>0</td>\n",
       "    </tr>\n",
       "  </tbody>\n",
       "</table>\n",
       "<p>86 rows × 6 columns</p>\n",
       "</div>"
      ],
      "text/plain": [
       "                                           Title   Length  \\\n",
       "0   I thought gold stake was supposed to be hard  0:59:05   \n",
       "1                      all the foil in the world  0:40:14   \n",
       "2                     this patch was made for me  0:34:40   \n",
       "3                        it has to work sometime  1:30:54   \n",
       "4     i will never financially recover from this  0:27:07   \n",
       "..                                           ...      ...   \n",
       "81                   bro got double mult multers  0:31:19   \n",
       "82            when your brain glycogen hits zero  0:27:41   \n",
       "83                      he called this deck easy  0:28:07   \n",
       "84                            stencil my nemesis  0:44:37   \n",
       "85          the goat of being carried in balatro  0:59:43   \n",
       "\n",
       "                                  Balatro Card   Views  negative  polychrome  \n",
       "0                                       mecury   65000         1           0  \n",
       "1   campfire\\spacejoker\\vagabond\\fortuneteller   30000         1           0  \n",
       "2       greenjoker\\stuntman\\blackboard\\madness   60000         0           0  \n",
       "3                                      104\\duo   67000         0           1  \n",
       "4                                        money   27000         0           0  \n",
       "..                                         ...     ...       ...         ...  \n",
       "81                           trio\\duo\\stuntman  105000         1           0  \n",
       "82                 turtlebean\\abstract\\scholar   75000         0           0  \n",
       "83            drunkard\\raisedfist\\swashbuckler   91000         0           0  \n",
       "84                           blueprint\\stencil  113000         0           0  \n",
       "85                          cavendish\\baseball  151000         0           0  \n",
       "\n",
       "[86 rows x 6 columns]"
      ]
     },
     "execution_count": 154,
     "metadata": {},
     "output_type": "execute_result"
    }
   ],
   "source": [
    "import pandas as pd\n",
    "import numpy as np\n",
    "import matplotlib.pyplot as plt\n",
    "\n",
    "csv = pd.read_csv('NL data.csv')\n",
    "csv"
   ]
  },
  {
   "cell_type": "code",
   "execution_count": 155,
   "id": "cc13be5e",
   "metadata": {},
   "outputs": [],
   "source": [
    "csv1 = csv\n",
    "csv1['Balatro Card'] = csv1['Balatro Card'].str.strip('()').str.split('\\\\')\n",
    "NL = csv1"
   ]
  },
  {
   "cell_type": "code",
   "execution_count": 780,
   "id": "94c59be6",
   "metadata": {},
   "outputs": [
    {
     "data": {
      "text/plain": [
       "0                                           [mecury]\n",
       "1    [campfire, spacejoker, vagabond, fortuneteller]\n",
       "2        [greenjoker, stuntman, blackboard, madness]\n",
       "3                                         [104, duo]\n",
       "4                                            [money]\n",
       "5              [creditcard, grosmichel, evenstevens]\n",
       "6                                  [dna, greenjoker]\n",
       "7                    [triboulet, photograph, yorick]\n",
       "8                        [stencil, ceremonialdagger]\n",
       "9                            [cardsharp, tribe, duo]\n",
       "Name: Balatro Card, dtype: object"
      ]
     },
     "execution_count": 780,
     "metadata": {},
     "output_type": "execute_result"
    }
   ],
   "source": [
    "NL['Balatro Card'][:10]"
   ]
  },
  {
   "cell_type": "markdown",
   "id": "0673ae81",
   "metadata": {},
   "source": [
    "## Plot views over time as well as views over length of video."
   ]
  },
  {
   "cell_type": "markdown",
   "id": "f2f77f07",
   "metadata": {},
   "source": [
    "### Plot views over video number."
   ]
  },
  {
   "cell_type": "code",
   "execution_count": 292,
   "id": "d90d85b2",
   "metadata": {
    "scrolled": true
   },
   "outputs": [
    {
     "data": {
      "image/png": "[encoded data removed]",
      "text/plain": [
       "<Figure size 432x288 with 1 Axes>"
      ]
     },
     "metadata": {
      "needs_background": "light"
     },
     "output_type": "display_data"
    }
   ],
   "source": [
    "plt.plot(range(len(NL['Title'])),NL['Views']/1000)\n",
    "plt.title('Views Over Last 100 Balatro Videos (April-May)')\n",
    "plt.ylabel('Views (Thousands)')\n",
    "plt.xlabel('Video Number')\n",
    "plt.savefig('Views.png')"
   ]
  },
  {
   "cell_type": "markdown",
   "id": "f5e19bdf",
   "metadata": {},
   "source": [
    "### Lets sort the dataframe by video length ascending and plot."
   ]
  },
  {
   "cell_type": "code",
   "execution_count": 787,
   "id": "8740848e",
   "metadata": {},
   "outputs": [
    {
     "name": "stderr",
     "output_type": "stream",
     "text": [
      "findfont: Font family ['sans-serif'] not found. Falling back to DejaVu Sans.\n",
      "findfont: Generic family 'sans-serif' not found because none of the following families were found: Helvetica\n"
     ]
    },
    {
     "data": {
      "image/png": "[encoded data removed]",
      "text/plain": [
       "<Figure size 864x576 with 1 Axes>"
      ]
     },
     "metadata": {
      "needs_background": "light"
     },
     "output_type": "display_data"
    }
   ],
   "source": [
    "import matplotlib.patches as mpatches\n",
    "\n",
    "#sort by video length\n",
    "NL_time = NL.sort_values('Length',ignore_index=True)\n",
    "NL_time['Length']\n",
    "\n",
    "# set font\n",
    "plt.rcParams['font.family'] = 'sans-serif'\n",
    "plt.rcParams['font.sans-serif'] = 'Helvetica'\n",
    "\n",
    "# set the style of the axes and the text color\n",
    "plt.rcParams['axes.edgecolor']='#333F4B'\n",
    "plt.rcParams['axes.linewidth']=0.8\n",
    "plt.rcParams['xtick.color']='#333F4B'\n",
    "plt.rcParams['ytick.color']='#333F4B'\n",
    "plt.rcParams['text.color']='#333F4B'\n",
    "\n",
    "#add color to view thresholds\n",
    "colorsValue = []\n",
    "for value in NL_time['Views']:\n",
    "    if value < 60000:\n",
    "        colorsValue.append('royalblue')\n",
    "    elif value >= 100000:\n",
    "        colorsValue.append('deepskyblue')\n",
    "    else:\n",
    "        colorsValue.append('steelblue')\n",
    "\n",
    "#plot\n",
    "fig, ax = plt.subplots(figsize=(12,8))\n",
    "plt.bar(NL_time['Length'],NL_time['Views']/1000, color=colorsValue)\n",
    "plt.xlabel('Length of Video',fontsize=14, fontweight='black', color = '#333F4B')\n",
    "\n",
    "#labels\n",
    "plt.ylabel('Views (Thousands)',fontsize=14, fontweight='black', color = '#333F4B')\n",
    "plt.title('Views Over Length Of Video', fontsize=18, color = '#333F4B')\n",
    "ax.set_xticks([0,28, 66, 77, 84])\n",
    "ax.set_xlim(0,90)\n",
    "\n",
    "#legend for color mapping\n",
    "pop_a = mpatches.Patch(color='deepskyblue', label='More Than 100k Views') \n",
    "pop_b = mpatches.Patch(color='steelblue', label='Between 60k - 100k') \n",
    "pop_c = mpatches.Patch(color='royalblue', label='Less Than 60k Views') \n",
    "plt.legend(handles=[pop_a,pop_b,pop_c]) \n",
    "\n",
    "# change the style of the axis spines\n",
    "ax.spines['top'].set_visible(False)\n",
    "ax.spines['right'].set_visible(False)\n",
    "ax.spines['left'].set_bounds((1, 200))\n",
    "ax.spines['bottom'].set_bounds((0,84))\n",
    "ax.spines['left'].set_position(('outward', 5))\n",
    "ax.spines['bottom'].set_position(('outward', 5))\n",
    "\n",
    "# plt.savefig('ViewsLength-blank.pdf', dpi=300, bbox_inches='tight')"
   ]
  },
  {
   "cell_type": "markdown",
   "id": "c5d24981",
   "metadata": {},
   "source": [
    "## Next Steps: Find all the jokers used in the last 100 thumbnails and how often they occured."
   ]
  },
  {
   "cell_type": "code",
   "execution_count": 782,
   "id": "7e863992",
   "metadata": {},
   "outputs": [
    {
     "data": {
      "text/plain": [
       "fortuneteller    10\n",
       "campfire          8\n",
       "constellation     7\n",
       "duo               7\n",
       "stuntman          7\n",
       "                 ..\n",
       "roughgem          1\n",
       "onyxagate         1\n",
       "facejoker         1\n",
       "fourfingers       1\n",
       "lusty             1\n",
       "Length: 77, dtype: int64"
      ]
     },
     "execution_count": 782,
     "metadata": {},
     "output_type": "execute_result"
    }
   ],
   "source": [
    "# add rows of lists into one big list\n",
    "lst = NL['Balatro Card'].explode().to_list()\n",
    "jokers = pd.DataFrame(lst)\n",
    "\n",
    "#calculate number of joker occurences\n",
    "count = jokers.value_counts()\n",
    "count"
   ]
  },
  {
   "cell_type": "markdown",
   "id": "c6500fa6",
   "metadata": {},
   "source": [
    "### Let's see if we can plot this with a histogram or bar chart or something simple."
   ]
  },
  {
   "cell_type": "code",
   "execution_count": 783,
   "id": "644828af",
   "metadata": {},
   "outputs": [
    {
     "data": {
      "text/plain": [
       "<matplotlib.collections.LineCollection at 0x229a1845f40>"
      ]
     },
     "execution_count": 783,
     "metadata": {},
     "output_type": "execute_result"
    },
    {
     "data": {
      "image/png": "[encoded data removed]",
      "text/plain": [
       "<Figure size 360x252 with 1 Axes>"
      ]
     },
     "metadata": {
      "needs_background": "light"
     },
     "output_type": "display_data"
    }
   ],
   "source": [
    "# set font\n",
    "plt.rcParams['font.family'] = 'sans-serif'\n",
    "plt.rcParams['font.sans-serif'] = 'Helvetica'\n",
    "\n",
    "# set the style of the axes and the text color\n",
    "plt.rcParams['axes.edgecolor']='#333F4B'\n",
    "plt.rcParams['axes.linewidth']=0.8\n",
    "plt.rcParams['xtick.color']='#333F4B'\n",
    "plt.rcParams['ytick.color']='#333F4B'\n",
    "plt.rcParams['text.color']='#333F4B'\n",
    "\n",
    "\n",
    "fig, ax = plt.subplots(figsize=(5,3.5))\n",
    "\n",
    "jokers.value_counts()[:10].sort_values().plot(kind = 'barh',)\n",
    "plt.xlabel('Number of Thumbnail Occurences')\n",
    "plt.ylabel('Joker')\n",
    "plt.title('10 Most Used Jokers In NortherLions Thumbnails')\n",
    "\n",
    "plt.hlines(y=10, xmin=0, xmax=11, color='#007acc', alpha=0.2, linewidth=5)\n"
   ]
  },
  {
   "cell_type": "markdown",
   "id": "cfcbf335",
   "metadata": {},
   "source": [
    "### Clean up the graph and make it look presentable."
   ]
  },
  {
   "cell_type": "code",
   "execution_count": 788,
   "id": "7d0c2b48",
   "metadata": {
    "scrolled": true
   },
   "outputs": [
    {
     "data": {
      "image/png": "[encoded data removed]",
      "text/plain": [
       "<Figure size 360x252 with 1 Axes>"
      ]
     },
     "metadata": {
      "needs_background": "light"
     },
     "output_type": "display_data"
    }
   ],
   "source": [
    "# set font\n",
    "plt.rcParams['font.family'] = 'sans-serif'\n",
    "plt.rcParams['font.sans-serif'] = 'Helvetica'\n",
    "\n",
    "# set the style of the axes and the text color\n",
    "plt.rcParams['axes.edgecolor']='#333F4B'\n",
    "plt.rcParams['axes.linewidth']=0.8\n",
    "plt.rcParams['xtick.color']='#333F4B'\n",
    "plt.rcParams['ytick.color']='#333F4B'\n",
    "plt.rcParams['text.color']='#333F4B'\n",
    "\n",
    "#this is placeholder code from stackoverflow -updated in following barh plots below.\n",
    "percentages = pd.Series([10, 8, 7, 7, 7, 6, 6, 6, 5, 5], \n",
    "                        index=['Fortune Teller', 'Campfire', 'Stuntman', 'The Duo', \n",
    "                               'Constellation', 'Cavendish', 'Vampire', 'Baseball', 'Ramen', 'Vagabond'])\n",
    "df = pd.DataFrame({'percentage' : percentages})\n",
    "df = df.sort_values(by='percentage')\n",
    "my_range=list(range(1,len(df.index)+1))\n",
    "\n",
    "#plot\n",
    "fig, ax = plt.subplots(figsize=(5,3.5))\n",
    "\n",
    "# create horizontal lines that starts at x = 0 and goes to value \n",
    "plt.hlines(y=my_range, xmin=0, xmax=df['percentage'], color='#007ACC', alpha=0.2, linewidth=5)\n",
    "\n",
    "# add blue dot at each value\n",
    "plt.plot(df['percentage'], my_range, \"o\", markersize=5, color='#007ACC', alpha=0.6)\n",
    "\n",
    "# set labels\n",
    "ax.set_xlabel('')\n",
    "ax.set_ylabel('')\n",
    "fig.text(0.007,1,'Number Of Thumbnail Occurences', fontsize=16, color = '#333F4B')\n",
    "\n",
    "# set axis\n",
    "ax.tick_params(axis='both', which='major', labelsize=12)\n",
    "plt.yticks(my_range, df.index)\n",
    "\n",
    "# add an horizonal label for the y axis \n",
    "fig.text(-0.025, 0.92, 'Joker', fontsize=14, fontweight='black', color = '#333F4B')\n",
    "\n",
    "# change the style of the axis spines\n",
    "ax.spines['top'].set_visible(False)\n",
    "ax.spines['right'].set_visible(False)\n",
    "\n",
    "ax.spines['left'].set_bounds((1, 10))\n",
    "ax.spines['bottom'].set_bounds((0,10))\n",
    "ax.set_xlim(0,11)\n",
    "\n",
    "ax.spines['left'].set_position(('outward', 5))\n",
    "ax.spines['bottom'].set_position(('outward', 5))\n",
    "\n",
    "# plt.savefig('jokers.png', dpi=300, bbox_inches='tight')\n"
   ]
  },
  {
   "cell_type": "markdown",
   "id": "d2aa6922",
   "metadata": {},
   "source": [
    "## Lets look deeper at the joker information we have.\n",
    "### Find all the jokers, how often they occured, average views when on thumbnail. Then store all jokers with their video's information (views, length, polychrome, negative) as values."
   ]
  },
  {
   "cell_type": "code",
   "execution_count": 418,
   "id": "3265a9d1",
   "metadata": {},
   "outputs": [
    {
     "name": "stdout",
     "output_type": "stream",
     "text": [
      "['mecury', 'campfire', 'spacejoker', 'vagabond', 'fortuneteller', 'greenjoker', 'stuntman', 'blackboard', 'madness', '104', 'duo', 'money', 'creditcard', 'grosmichel', 'evenstevens', 'dna', 'triboulet', 'photograph', 'yorick', 'stencil', 'ceremonialdagger', 'cardsharp', 'tribe', 'ramen', 'cavendish', 'icecream/fourfingers/order', 'baseball', 'abstract', 'roughgem', 'constellation', 'shootthemoon', 'square', 'drunkard', 'socknbuskin', 'midasmask', 'facejoker', 'vampire', 'hack', 'bloodstone', 'steel', 'driverslicense', 'family', 'arrowhead', 'onyxagate', 'burglar', 'blueprint', 'acrobat', 'certificate', 'burntjoker', 'ridethebus', 'sparetrousers', 'raisedfist', 'tradingcard', 'wilyjoker', 'score', 'supernova', 'hologram', 'fourfingers', 'mime', 'rocket', 'wily', 'throwback', 'half', 'basbeall', 'sixthsense', 'egg', 'smeared', 'runner', 'shortcut', 'droll', 'chicot', 'trio', 'lusty', 'crafty', 'turtlebean', 'scholar', 'swashbuckler']\n"
     ]
    }
   ],
   "source": [
    "#make a list of all jokers, cards, or non-cards used\n",
    "jokers_used = []\n",
    "for x in range(86):\n",
    "    for i in range(len(NL['Balatro Card'][x])):\n",
    "        name = NL['Balatro Card'][x][i]\n",
    "        if name not in jokers_used:\n",
    "            jokers_used.append(name)\n",
    "print(jokers_used)\n"
   ]
  },
  {
   "cell_type": "markdown",
   "id": "27347c1e",
   "metadata": {},
   "source": [
    "\n",
    "#### I kept it simple here. Lets just look at storing a Joker as a key and a list of their occuring video's views as values."
   ]
  },
  {
   "cell_type": "code",
   "execution_count": 564,
   "id": "edfd9bb0",
   "metadata": {},
   "outputs": [
    {
     "data": {
      "text/plain": [
       "[61000, 62000, 73000, 109000, 151000]"
      ]
     },
     "execution_count": 564,
     "metadata": {},
     "output_type": "execute_result"
    }
   ],
   "source": [
    "#Create dictionary with each joker as key and a list of views for each video they were in\n",
    "joker_views = {}  # {mercury : [20000,34000]}\n",
    "\n",
    "#iterate each video\n",
    "for x in range(86):\n",
    "#     print('Video (x)', x) #test loop for each video\n",
    "    #iterate each joker included in thumbnail\n",
    "    for i in range(len(NL['Balatro Card'][x])):\n",
    "        name = NL['Balatro Card'][x][i]\n",
    "#         print('Joker (i)',i)  #test loop for each card\n",
    "        if name in joker_views:\n",
    "            joker_views[name] += [NL['Views'][x]]\n",
    "        if name not in joker_views:\n",
    "            joker_views[name] = [NL['Views'][x]]\n",
    "\n",
    "joker_views['baseball']\n"
   ]
  },
  {
   "cell_type": "markdown",
   "id": "f432cba2",
   "metadata": {},
   "source": [
    "#### Now we iterate through each joker in the joker_views dictionary and average their views across all features thumbnails.\n"
   ]
  },
  {
   "cell_type": "code",
   "execution_count": 501,
   "id": "692d6009",
   "metadata": {
    "scrolled": true
   },
   "outputs": [
    {
     "data": {
      "text/plain": [
       "{'mecury': 65000,\n",
       " 'campfire': 80375,\n",
       " 'spacejoker': 30000,\n",
       " 'vagabond': 65400,\n",
       " 'fortuneteller': 89600,\n",
       " 'greenjoker': 64500,\n",
       " 'stuntman': 81714,\n",
       " 'blackboard': 60000,\n",
       " 'madness': 74000,\n",
       " '104': 72000,\n",
       " 'duo': 87143,\n",
       " 'money': 71667,\n",
       " 'creditcard': 53000,\n",
       " 'grosmichel': 53000,\n",
       " 'evenstevens': 87000,\n",
       " 'dna': 73000,\n",
       " 'triboulet': 78500,\n",
       " 'photograph': 76250,\n",
       " 'yorick': 83500,\n",
       " 'stencil': 73000,\n",
       " 'ceremonialdagger': 86400,\n",
       " 'cardsharp': 61750,\n",
       " 'tribe': 55667,\n",
       " 'ramen': 89600,\n",
       " 'cavendish': 101667,\n",
       " 'icecream/fourfingers/order': 78000,\n",
       " 'baseball': 91200,\n",
       " 'abstract': 79000,\n",
       " 'roughgem': 61000,\n",
       " 'constellation': 83429,\n",
       " 'shootthemoon': 63000,\n",
       " 'square': 54500,\n",
       " 'drunkard': 60667,\n",
       " 'socknbuskin': 78500,\n",
       " 'midasmask': 76500,\n",
       " 'facejoker': 84000,\n",
       " 'vampire': 86500,\n",
       " 'hack': 99000,\n",
       " 'bloodstone': 75333,\n",
       " 'steel': 86500,\n",
       " 'driverslicense': 77000,\n",
       " 'family': 83667,\n",
       " 'arrowhead': 45000,\n",
       " 'onyxagate': 45000,\n",
       " 'burglar': 45000,\n",
       " 'blueprint': 85500,\n",
       " 'acrobat': 61000,\n",
       " 'certificate': 107000,\n",
       " 'burntjoker': 78500,\n",
       " 'ridethebus': 86000,\n",
       " 'sparetrousers': 73000,\n",
       " 'raisedfist': 89333,\n",
       " 'tradingcard': 68000,\n",
       " 'wilyjoker': 68000,\n",
       " 'score': 121000,\n",
       " 'supernova': 85000,\n",
       " 'hologram': 79000,\n",
       " 'fourfingers': 69000,\n",
       " 'mime': 85000,\n",
       " 'rocket': 100500,\n",
       " 'wily': 88000,\n",
       " 'throwback': 77000,\n",
       " 'half': 100000,\n",
       " 'basbeall': 106000,\n",
       " 'sixthsense': 88000,\n",
       " 'egg': 131000,\n",
       " 'smeared': 71500,\n",
       " 'runner': 112000,\n",
       " 'shortcut': 112000,\n",
       " 'droll': 104000,\n",
       " 'chicot': 106000,\n",
       " 'trio': 111333,\n",
       " 'lusty': 82000,\n",
       " 'crafty': 82000,\n",
       " 'turtlebean': 75000,\n",
       " 'scholar': 75000,\n",
       " 'swashbuckler': 91000}"
      ]
     },
     "execution_count": 501,
     "metadata": {},
     "output_type": "execute_result"
    }
   ],
   "source": [
    "\n",
    "joker_avgs = {}\n",
    "for n in joker_views.keys():\n",
    "    joker_avgs[n] = int(np.round(np.average(joker_views[n])))\n",
    "\n",
    "joker_avgs\n"
   ]
  },
  {
   "cell_type": "code",
   "execution_count": 521,
   "id": "7d4188ab",
   "metadata": {
    "scrolled": true
   },
   "outputs": [
    {
     "data": {
      "text/html": [
       "<div>\n",
       "<style scoped>\n",
       "    .dataframe tbody tr th:only-of-type {\n",
       "        vertical-align: middle;\n",
       "    }\n",
       "\n",
       "    .dataframe tbody tr th {\n",
       "        vertical-align: top;\n",
       "    }\n",
       "\n",
       "    .dataframe thead th {\n",
       "        text-align: right;\n",
       "    }\n",
       "</style>\n",
       "<table border=\"1\" class=\"dataframe\">\n",
       "  <thead>\n",
       "    <tr style=\"text-align: right;\">\n",
       "      <th></th>\n",
       "      <th>Joker</th>\n",
       "      <th>Avg</th>\n",
       "    </tr>\n",
       "  </thead>\n",
       "  <tbody>\n",
       "    <tr>\n",
       "      <th>24</th>\n",
       "      <td>cavendish</td>\n",
       "      <td>101667</td>\n",
       "    </tr>\n",
       "    <tr>\n",
       "      <th>69</th>\n",
       "      <td>droll</td>\n",
       "      <td>104000</td>\n",
       "    </tr>\n",
       "    <tr>\n",
       "      <th>63</th>\n",
       "      <td>basbeall</td>\n",
       "      <td>106000</td>\n",
       "    </tr>\n",
       "    <tr>\n",
       "      <th>70</th>\n",
       "      <td>chicot</td>\n",
       "      <td>106000</td>\n",
       "    </tr>\n",
       "    <tr>\n",
       "      <th>47</th>\n",
       "      <td>certificate</td>\n",
       "      <td>107000</td>\n",
       "    </tr>\n",
       "    <tr>\n",
       "      <th>71</th>\n",
       "      <td>trio</td>\n",
       "      <td>111333</td>\n",
       "    </tr>\n",
       "    <tr>\n",
       "      <th>67</th>\n",
       "      <td>runner</td>\n",
       "      <td>112000</td>\n",
       "    </tr>\n",
       "    <tr>\n",
       "      <th>68</th>\n",
       "      <td>shortcut</td>\n",
       "      <td>112000</td>\n",
       "    </tr>\n",
       "    <tr>\n",
       "      <th>54</th>\n",
       "      <td>score</td>\n",
       "      <td>121000</td>\n",
       "    </tr>\n",
       "    <tr>\n",
       "      <th>65</th>\n",
       "      <td>egg</td>\n",
       "      <td>131000</td>\n",
       "    </tr>\n",
       "  </tbody>\n",
       "</table>\n",
       "</div>"
      ],
      "text/plain": [
       "          Joker     Avg\n",
       "24    cavendish  101667\n",
       "69        droll  104000\n",
       "63     basbeall  106000\n",
       "70       chicot  106000\n",
       "47  certificate  107000\n",
       "71         trio  111333\n",
       "67       runner  112000\n",
       "68     shortcut  112000\n",
       "54        score  121000\n",
       "65          egg  131000"
      ]
     },
     "execution_count": 521,
     "metadata": {},
     "output_type": "execute_result"
    }
   ],
   "source": [
    "# create a DataFrame from the joker average views dictionary\n",
    "joker_avgs_df = pd.DataFrame(joker_avgs.items(), columns=['Joker','Avg'])\n",
    "joker_avgs_df = joker_avgs_df.sort_values('Avg',ascending=True)\n",
    "joker_avgs_df[-10:]\n",
    "# joker_avgs_df[-10:].to_csv('avgs_1.csv')"
   ]
  },
  {
   "cell_type": "markdown",
   "id": "2e4d8ff6",
   "metadata": {},
   "source": [
    "### Plot the top 10 jokers by the most views."
   ]
  },
  {
   "cell_type": "code",
   "execution_count": 584,
   "id": "7fe348a4",
   "metadata": {
    "scrolled": false
   },
   "outputs": [
    {
     "data": {
      "image/png": "[encoded data removed]",
      "text/plain": [
       "<Figure size 360x252 with 1 Axes>"
      ]
     },
     "metadata": {
      "needs_background": "light"
     },
     "output_type": "display_data"
    }
   ],
   "source": [
    "#plot top 10 jokers by most views\n",
    "avgs_1 = pd.read_csv('joker avgs.csv')\n",
    "\n",
    "# we first need a numeric placeholder for the y axis\n",
    "my_range=list(range(1,len(avgs_1.index)+1))\n",
    "\n",
    "fig, ax = plt.subplots(figsize=(5,3.5))\n",
    "\n",
    "# create for each expense type an horizontal line that starts at x = 0 with the length \n",
    "# represented by the specific expense percentage value.\n",
    "plt.hlines(y=my_range, xmin=0, xmax=avgs_1['Avg']/1000, color='#007ACC', alpha=0.2, linewidth=5)\n",
    "\n",
    "# create for each expense type a dot at the level of the expense percentage value\n",
    "plt.plot(avgs_1['Avg']/1000, my_range, \"o\", markersize=5, color='#007ACC', alpha=0.6)\n",
    "# set axis\n",
    "ax.tick_params(axis='both', which='major', labelsize=12)\n",
    "plt.yticks(my_range, avgs_1['Joker'])\n",
    "# plt.xticks(['Egg', 'No Joker Included','Shortcut','Runner','The Trio','Certificate','Chicot','Baseball','Droll Joker','Cavendish'])\n",
    "\n",
    "# set labels\n",
    "ax.set_xlabel('Views (Thousands)', fontsize=14, fontweight='black', color = '#333F4B')\n",
    "ax.set_ylabel('')\n",
    "\n",
    "fig.text(0.08,1,'Average Views Per Thumbnail Occurence', fontsize=16, color = '#333F4B')\n",
    "fig.text(0.35,.94,'(At Least 1 Occurence)', fontsize=10, color = '#333F4B')\n",
    "\n",
    "# add an horizonal label for the y axis \n",
    "fig.text(-0.025, 0.92, 'Joker', fontsize=14, fontweight='black', color = '#333F4B')\n",
    "\n",
    "# change the style of the axis spines\n",
    "ax.spines['top'].set_visible(False)\n",
    "ax.spines['right'].set_visible(False)\n",
    "\n",
    "ax.spines['left'].set_bounds((1, 10))\n",
    "ax.spines['bottom'].set_bounds((0,140))\n",
    "ax.set_xlim(0,140)\n",
    "\n",
    "ax.spines['left'].set_position(('outward', 5))\n",
    "ax.spines['bottom'].set_position(('outward', 5))\n",
    "\n",
    "# plt.savefig('joker_avg_1.pdf', dpi=300, bbox_inches='tight')"
   ]
  },
  {
   "cell_type": "markdown",
   "id": "2865c2b8",
   "metadata": {},
   "source": [
    "### Now lets plot the top 10 jokers by the most views if they appear in more than one humbnail."
   ]
  },
  {
   "cell_type": "markdown",
   "id": "7a205229",
   "metadata": {},
   "source": [
    "#### Compile list of jokers that occur more than once."
   ]
  },
  {
   "cell_type": "code",
   "execution_count": 565,
   "id": "d628c618",
   "metadata": {
    "scrolled": true
   },
   "outputs": [
    {
     "data": {
      "text/plain": [
       "{'campfire': 80375,\n",
       " 'vagabond': 65400,\n",
       " 'fortuneteller': 89600,\n",
       " 'greenjoker': 64500,\n",
       " 'stuntman': 81714,\n",
       " 'madness': 74000,\n",
       " '104': 72000,\n",
       " 'duo': 87143,\n",
       " 'money': 71667,\n",
       " 'evenstevens': 87000,\n",
       " 'dna': 73000,\n",
       " 'triboulet': 78500,\n",
       " 'photograph': 76250,\n",
       " 'yorick': 83500,\n",
       " 'stencil': 73000,\n",
       " 'ceremonialdagger': 86400,\n",
       " 'cardsharp': 61750,\n",
       " 'tribe': 55667,\n",
       " 'ramen': 89600,\n",
       " 'cavendish': 101667,\n",
       " 'baseball': 91200,\n",
       " 'abstract': 79000,\n",
       " 'constellation': 83429,\n",
       " 'shootthemoon': 63000,\n",
       " 'square': 54500,\n",
       " 'drunkard': 60667,\n",
       " 'socknbuskin': 78500,\n",
       " 'midasmask': 76500,\n",
       " 'vampire': 86500,\n",
       " 'hack': 99000,\n",
       " 'bloodstone': 75333,\n",
       " 'steel': 86500,\n",
       " 'driverslicense': 77000,\n",
       " 'family': 83667,\n",
       " 'blueprint': 85500,\n",
       " 'acrobat': 61000,\n",
       " 'burntjoker': 78500,\n",
       " 'ridethebus': 86000,\n",
       " 'raisedfist': 89333,\n",
       " 'score': 121000,\n",
       " 'supernova': 85000,\n",
       " 'rocket': 100500,\n",
       " 'smeared': 71500,\n",
       " 'trio': 111333}"
      ]
     },
     "execution_count": 565,
     "metadata": {},
     "output_type": "execute_result"
    }
   ],
   "source": [
    "#save averages for jokers that appeared more than one time\n",
    "\n",
    "joker_avgs2 = {}\n",
    "for n in joker_views.keys():\n",
    "    if len(joker_views[n]) > 1:\n",
    "        joker_avgs2[n] = int(np.round(np.average(joker_views[n])))\n",
    "\n",
    "joker_avgs2\n"
   ]
  },
  {
   "cell_type": "markdown",
   "id": "faed19c5",
   "metadata": {},
   "source": [
    "#### Recreate an average dataframe consisting of only multiple occuring jokers."
   ]
  },
  {
   "cell_type": "code",
   "execution_count": 568,
   "id": "d59e6602",
   "metadata": {},
   "outputs": [
    {
     "data": {
      "text/html": [
       "<div>\n",
       "<style scoped>\n",
       "    .dataframe tbody tr th:only-of-type {\n",
       "        vertical-align: middle;\n",
       "    }\n",
       "\n",
       "    .dataframe tbody tr th {\n",
       "        vertical-align: top;\n",
       "    }\n",
       "\n",
       "    .dataframe thead th {\n",
       "        text-align: right;\n",
       "    }\n",
       "</style>\n",
       "<table border=\"1\" class=\"dataframe\">\n",
       "  <thead>\n",
       "    <tr style=\"text-align: right;\">\n",
       "      <th></th>\n",
       "      <th>Joker</th>\n",
       "      <th>Avg</th>\n",
       "    </tr>\n",
       "  </thead>\n",
       "  <tbody>\n",
       "    <tr>\n",
       "      <th>7</th>\n",
       "      <td>duo</td>\n",
       "      <td>87143</td>\n",
       "    </tr>\n",
       "    <tr>\n",
       "      <th>38</th>\n",
       "      <td>raisedfist</td>\n",
       "      <td>89333</td>\n",
       "    </tr>\n",
       "    <tr>\n",
       "      <th>18</th>\n",
       "      <td>ramen</td>\n",
       "      <td>89600</td>\n",
       "    </tr>\n",
       "    <tr>\n",
       "      <th>2</th>\n",
       "      <td>fortuneteller</td>\n",
       "      <td>89600</td>\n",
       "    </tr>\n",
       "    <tr>\n",
       "      <th>20</th>\n",
       "      <td>baseball</td>\n",
       "      <td>91200</td>\n",
       "    </tr>\n",
       "    <tr>\n",
       "      <th>29</th>\n",
       "      <td>hack</td>\n",
       "      <td>99000</td>\n",
       "    </tr>\n",
       "    <tr>\n",
       "      <th>41</th>\n",
       "      <td>rocket</td>\n",
       "      <td>100500</td>\n",
       "    </tr>\n",
       "    <tr>\n",
       "      <th>19</th>\n",
       "      <td>cavendish</td>\n",
       "      <td>101667</td>\n",
       "    </tr>\n",
       "    <tr>\n",
       "      <th>43</th>\n",
       "      <td>trio</td>\n",
       "      <td>111333</td>\n",
       "    </tr>\n",
       "    <tr>\n",
       "      <th>39</th>\n",
       "      <td>score</td>\n",
       "      <td>121000</td>\n",
       "    </tr>\n",
       "  </tbody>\n",
       "</table>\n",
       "</div>"
      ],
      "text/plain": [
       "            Joker     Avg\n",
       "7             duo   87143\n",
       "38     raisedfist   89333\n",
       "18          ramen   89600\n",
       "2   fortuneteller   89600\n",
       "20       baseball   91200\n",
       "29           hack   99000\n",
       "41         rocket  100500\n",
       "19      cavendish  101667\n",
       "43           trio  111333\n",
       "39          score  121000"
      ]
     },
     "execution_count": 568,
     "metadata": {},
     "output_type": "execute_result"
    }
   ],
   "source": [
    "# create a DataFrame from the joker average views dictionary\n",
    "joker_avgs_df2 = pd.DataFrame(joker_avgs2.items(), columns=['Joker','Avg'])\n",
    "joker_avgs_df2 = joker_avgs_df2.sort_values('Avg',ascending=True)\n",
    "joker_avgs_df2.reset_index(drop=True)\n",
    "joker_avgs_df2[-10:]\n",
    "# joker_avgs_df2[-10:].to_csv('avgs_2.csv')"
   ]
  },
  {
   "cell_type": "code",
   "execution_count": 596,
   "id": "9b74905c",
   "metadata": {
    "scrolled": false
   },
   "outputs": [
    {
     "data": {
      "image/png": "[encoded data removed]",
      "text/plain": [
       "<Figure size 360x252 with 1 Axes>"
      ]
     },
     "metadata": {
      "needs_background": "light"
     },
     "output_type": "display_data"
    }
   ],
   "source": [
    "#plot top 10 jokers by most views\n",
    "avgs_2 = pd.read_csv('joker avgs2.csv')\n",
    "\n",
    "# we first need a numeric placeholder for the y axis\n",
    "my_range=list(range(1,len(avgs_2.index)+1))\n",
    "\n",
    "fig, ax = plt.subplots(figsize=(5,3.5))\n",
    "\n",
    "# create for each expense type an horizontal line that starts at x = 0 with the length \n",
    "# represented by the specific expense percentage value.\n",
    "plt.hlines(y=my_range, xmin=0, xmax=avgs_2['Avg']/1000, color='#007ACC', alpha=0.2, linewidth=5)\n",
    "\n",
    "# create for each expense type a dot at the level of the expense percentage value\n",
    "plt.plot(avgs_2['Avg']/1000, my_range, \"o\", markersize=5, color='#007ACC', alpha=0.6)\n",
    "# set axis\n",
    "ax.tick_params(axis='both', which='major', labelsize=12)\n",
    "plt.yticks(my_range, avgs_2['Joker'])\n",
    "# plt.xticks(['Egg', 'No Joker Included','Shortcut','Runner','The Trio','Certificate','Chicot','Baseball','Droll Joker','Cavendish'])\n",
    "\n",
    "# set labels\n",
    "ax.set_xlabel('Views (Thousands)', fontsize=14, fontweight='black', color = '#333F4B')\n",
    "ax.set_ylabel('')\n",
    "\n",
    "fig.text(0.08,1,'Average Views Per Thumbnail Occurence', fontsize=16, color = '#333F4B')\n",
    "fig.text(0.35,.94,'(At Least 2 Occurences)', fontsize=10, color = '#333F4B')\n",
    "\n",
    "# add an horizonal label for the y axis \n",
    "fig.text(-0.025, 0.92, 'Joker', fontsize=14, fontweight='black', color = '#333F4B')\n",
    "\n",
    "# change the style of the axis spines\n",
    "ax.spines['top'].set_visible(False)\n",
    "ax.spines['right'].set_visible(False)\n",
    "\n",
    "ax.spines['left'].set_bounds((1, 10))\n",
    "ax.spines['bottom'].set_bounds((0,140))\n",
    "ax.set_xlim(0,140)\n",
    "\n",
    "ax.spines['left'].set_position(('outward', 5))\n",
    "ax.spines['bottom'].set_position(('outward', 5))\n",
    "\n",
    "# plt.savefig('joker_avg_2.pdf', dpi=300, bbox_inches='tight')"
   ]
  },
  {
   "cell_type": "markdown",
   "id": "707a0ed6",
   "metadata": {},
   "source": [
    "## Now let's look at card modifier impact on views."
   ]
  },
  {
   "cell_type": "code",
   "execution_count": 814,
   "id": "86a35fcd",
   "metadata": {},
   "outputs": [
    {
     "data": {
      "image/png": "[encoded data removed]",
      "text/plain": [
       "<Figure size 360x252 with 1 Axes>"
      ]
     },
     "metadata": {
      "needs_background": "light"
     },
     "output_type": "display_data"
    }
   ],
   "source": [
    "#Lets do a bar chart of the average views for a video if it includes a polychrome or negative joker\n",
    "poly_views = [53000,67000,116000,109000,67000,82000,104000,85000]\n",
    "poly_avg = 85375\n",
    "neg_views = [84000,144000,65000,112000,91000,30000,105000]\n",
    "neg_avg = 90143\n",
    "my_range2=list(range(1,len(poly_neg_avg)+1))\n",
    "poly_neg_avg = [83.391,85.375,90.143]\n",
    "labels_bar = ['Misc','Polychrome','Negative']\n",
    "\n",
    "fig, ax = plt.subplots(figsize=(5,3.5))\n",
    "plt.bar(labels_bar,poly_neg_avg, width=0.5, color=['navajowhite','violet','mediumslateblue'])\n",
    "\n",
    "ax.tick_params(axis='both', which='major', labelsize=12)\n",
    "plt.yticks([0,20,40,60,80,100])\n",
    "# plt.xticks(['Egg', 'No Joker Included','Shortcut','Runner','The Trio','Certificate','Chicot','Baseball','Droll Joker','Cavendish'])\n",
    "\n",
    "# # set labels\n",
    "fig.text(0.34,-0.06,'Card Modifiers', fontsize=14, fontweight='black', color = '#333F4B')\n",
    "ax.set_ylabel('Views (Thousands)', fontsize=14, fontweight='black', color = '#333F4B')\n",
    "\n",
    "fig.text(0.148,.95,'Average Views Per Card Modifier', fontsize=16, color = '#333F4B')\n",
    "fig.text(0.216,.765,'83,391', fontsize=9, color = '#333F4B')\n",
    "fig.text(0.467,.78,'85,375', fontsize=9, color = '#333F4B')\n",
    "fig.text(0.727,.818,'90,143', fontsize=9, color = '#333F4B')\n",
    "\n",
    "# change the style of the axis spines\n",
    "ax.spines['top'].set_visible(False)\n",
    "ax.spines['right'].set_visible(False)\n",
    "\n",
    "ax.spines['left'].set_bounds((0, 100))\n",
    "ax.spines['bottom'].set_bounds((0,2))\n",
    "ax.set_xlim(-0.5,2)\n",
    "plt.xlim(None, 2.5)\n",
    "\n",
    "ax.spines['left'].set_position(('outward', 5))\n",
    "ax.spines['bottom'].set_position(('outward', 5))\n",
    "\n",
    "plt.savefig('poly_neg_avg.png', dpi=300, bbox_inches='tight')"
   ]
  },
  {
   "cell_type": "markdown",
   "id": "f6e51c8b",
   "metadata": {},
   "source": [
    "# If you read through this far thank you! Hope this was something interesting. Was super enjoyable and easy to do so I might do more of these in the future.\n",
    "\n",
    "# -Ian"
   ]
  },
  {
   "cell_type": "code",
   "execution_count": null,
   "id": "a0453eed",
   "metadata": {},
   "outputs": [],
   "source": []
  }
 ],
 "metadata": {
  "kernelspec": {
   "display_name": "Python 3 (ipykernel)",
   "language": "python",
   "name": "python3"
  },
  "language_info": {
   "codemirror_mode": {
    "name": "ipython",
    "version": 3
   },
   "file_extension": ".py",
   "mimetype": "text/x-python",
   "name": "python",
   "nbconvert_exporter": "python",
   "pygments_lexer": "ipython3",
   "version": "3.9.7"
  }
 },
 "nbformat": 4,
 "nbformat_minor": 5
}
